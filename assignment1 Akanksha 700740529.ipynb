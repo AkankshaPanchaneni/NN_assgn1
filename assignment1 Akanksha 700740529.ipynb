{
 "cells": [
  {
   "cell_type": "code",
   "execution_count": 15,
   "id": "5a267a7a",
   "metadata": {},
   "outputs": [
    {
     "name": "stdout",
     "output_type": "stream",
     "text": [
      "enter data : python\n",
      "typ\n"
     ]
    }
   ],
   "source": [
    "import random\n",
    "data = input(\"enter data : \") #providing input data\n",
    "\n",
    "split =  random.randrange(2, len(data)-2)\n",
    "\n",
    "data = data.replace(data[split:],\"\") #rearranging the data using replace function\n",
    "data = data[::-1]\n",
    "print(data) "
   ]
  },
  {
   "cell_type": "code",
   "execution_count": 16,
   "id": "7df8aa62",
   "metadata": {},
   "outputs": [
    {
     "name": "stdout",
     "output_type": "stream",
     "text": [
      "enter number 1 :15\n",
      "enter number 2 :10\n",
      "\n",
      " addition :  25\n",
      "substraction :  5\n",
      "divison :  1.5\n",
      "multiplication :  150\n"
     ]
    }
   ],
   "source": [
    "num1 = int(input(\"enter the 1st value :\")) #providing two input numbers\n",
    "num2 = int(input(\"enter the 2nd value :\"))\n",
    "\n",
    "print(\"\\n addition : \",(num1+num2)) #four arithmatic operations\n",
    "print(\"substraction : \",(num1-num2))\n",
    "print(\"divison : \",(num1/num2))\n",
    "print(\"multiplication : \",(num1*num2))"
   ]
  },
  {
   "cell_type": "code",
   "execution_count": 17,
   "id": "3cc34595",
   "metadata": {},
   "outputs": [
    {
     "name": "stdout",
     "output_type": "stream",
     "text": [
      "enter string :python programing\n",
      "pythons programing\n"
     ]
    }
   ],
   "source": [
    "inputValue = input(\"enter string :\") #providing the string thats going to be replaced\n",
    "\n",
    "inputValue = inputValue.replace(\"python\",\"pythons\")\n",
    "\n",
    "print(inputValue)"
   ]
  },
  {
   "cell_type": "code",
   "execution_count": 18,
   "id": "5d22edb2",
   "metadata": {},
   "outputs": [
    {
     "name": "stdout",
     "output_type": "stream",
     "text": [
      "Enter Students score : 80\n",
      "Grade = B\n"
     ]
    }
   ],
   "source": [
    "marks = int(input(\"Enter Students score : \")) #enter the values from the user\n",
    "\n",
    "if(marks<=100 and marks>=90): #printing the grade \n",
    "    print(\"Grade = A\")\n",
    "elif(marks<=89 and marks>=80):\n",
    "     print(\"Grade = B\")\n",
    "elif(marks<=79 and marks>=70):\n",
    "     print(\"Grade = C\") \n",
    "elif(marks<=69 and marks>=60):\n",
    "     print(\"Grade = D\")\n",
    "elif(marks<=59 and marks>=0):\n",
    "     print(\"Grade = F\") "
   ]
  },
  {
   "cell_type": "code",
   "execution_count": null,
   "id": "4303df32",
   "metadata": {},
   "outputs": [],
   "source": []
  }
 ],
 "metadata": {
  "kernelspec": {
   "display_name": "Python 3 (ipykernel)",
   "language": "python",
   "name": "python3"
  },
  "language_info": {
   "codemirror_mode": {
    "name": "ipython",
    "version": 3
   },
   "file_extension": ".py",
   "mimetype": "text/x-python",
   "name": "python",
   "nbconvert_exporter": "python",
   "pygments_lexer": "ipython3",
   "version": "3.9.12"
  }
 },
 "nbformat": 4,
 "nbformat_minor": 5
}
